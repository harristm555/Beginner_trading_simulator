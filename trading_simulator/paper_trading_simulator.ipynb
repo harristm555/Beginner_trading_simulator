{
  "nbformat": 4,
  "nbformat_minor": 0,
  "metadata": {
    "colab": {
      "name": "paper_trading_simulator.ipynb",
      "provenance": []
    },
    "kernelspec": {
      "name": "python3",
      "display_name": "Python 3"
    },
    "language_info": {
      "name": "python"
    }
  },
  "cells": [
    {
      "cell_type": "code",
      "metadata": {
        "id": "iGZyXjzYKhQF"
      },
      "source": [
        "amount = 1000\n",
        "portfolio =0\n",
        "money_end = amount\n",
        "investment= []\n",
        "investment_hist =[]\n",
        "investment_hist_qty = []\n",
        "investment_hist_price = []\n",
        "transaction_cost = 0.0075"
      ],
      "execution_count": null,
      "outputs": []
    },
    {
      "cell_type": "code",
      "metadata": {
        "id": "B9lK8aOBMRZy"
      },
      "source": [
        "def buy (qty, price):\n",
        "  global portfolio,money_end\n",
        "  allocated_money = qty * price\n",
        "  money_end = money_end - allocated_money - (allocated_money * transaction_cost)\n",
        "  portfolio += qty\n",
        "  investment_hist_price.append(price)\n",
        "  investment_hist_qty.append(qty)\n",
        "  investment_hist.append(allocated_money)\n",
        "  if investment == []:\n",
        "    investment.append(allocated_money)\n",
        "  else:\n",
        "    investment.append(allocated_money)\n",
        "    investment[-1] += investment[-2]\n",
        "  print('number of stocks in portfolio =', portfolio, '\\n',\n",
        "              'Total cash in hand =', money_end,'\\n',\n",
        "              'Investment history :','\\n',\n",
        "        'Qty   =',investment_hist_price,'\\n',\n",
        "        'Price =',investment_hist_price,'\\n',\n",
        "        'Value =',investment_hist,'\\n',)"
      ],
      "execution_count": null,
      "outputs": []
    },
    {
      "cell_type": "code",
      "metadata": {
        "id": "GbEXxI7IPDQM"
      },
      "source": [
        "def sell (qty, price):\n",
        "  global portfolio, money_end\n",
        "  allocated_money = qty * price\n",
        "  money_end = money_end + allocated_money -(allocated_money * transaction_cost)\n",
        "  portfolio -= qty\n",
        "  investment_hist.append(-allocated_money)\n",
        "  investment_hist_price.append(price)\n",
        "  investment_hist_qty.append(qty)\n",
        "  investment.append(-allocated_money)\n",
        "  investment[-1] += investment[-2]\n",
        "  print('number of stocks in portfolio =', portfolio, '\\n',\n",
        "              'Total cash in hand =', money_end,'\\n',\n",
        "              'Investment history :','\\n',\n",
        "        'Qty   =',investment_hist_price,'\\n',\n",
        "        'Price =',investment_hist_price,'\\n',\n",
        "        'Value =',investment_hist,'\\n',)"
      ],
      "execution_count": null,
      "outputs": []
    },
    {
      "cell_type": "code",
      "metadata": {
        "colab": {
          "base_uri": "https://localhost:8080/"
        },
        "id": "ZgWp--7ATxix",
        "outputId": "d00e485a-2679-4c60-c84d-36de42b83f46"
      },
      "source": [
        "price = 150\n",
        "sell (2,price)"
      ],
      "execution_count": null,
      "outputs": [
        {
          "output_type": "stream",
          "text": [
            "number of stocks in portfolio = 5 \n",
            " Total cash in hand = 401.07500000000005 \n",
            " Investment history : \n",
            " Qty   = [120, 130, 150] \n",
            " Price = [120, 130, 150] \n",
            " Value = [240, 650, -300] \n",
            "\n"
          ],
          "name": "stdout"
        }
      ]
    }
  ]
}